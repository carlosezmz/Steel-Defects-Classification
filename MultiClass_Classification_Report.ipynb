{
 "cells": [
  {
   "cell_type": "markdown",
   "metadata": {},
   "source": [
    "# Steel Defects Classification\n",
    "\n",
    "In this section we will build a multi-class classifier to classify the type steel defect shown on an image. To mitigate the class-imbalance, during training we will augment the images and for every batch augmented we will over sample the minority classes to have better representation. To evaluate the performance of the model, we expecct the precision, recall and f1 scores to be similar. "
   ]
  },
  {
   "cell_type": "code",
   "execution_count": 15,
   "metadata": {},
   "outputs": [],
   "source": [
    "# main libraries\n",
    "import numpy as np\n",
    "\n",
    "# dataset\n",
    "from steel_defects import steel_defects\n",
    "\n",
    "# model\n",
    "from defects_classifier import defects_classifier\n",
    "\n",
    "# batch generator over sampler\n",
    "from BalancedDataGenerator import BalancedDataGenerator\n",
    "\n",
    "# image generator\n",
    "from keras.preprocessing.image import ImageDataGenerator\n",
    "\n",
    "# model training helpers\n",
    "from keras.callbacks import EarlyStopping\n",
    "from keras.callbacks import ReduceLROnPlateau\n",
    "from keras.callbacks import ModelCheckpoint\n",
    "\n",
    "np.random.seed(42)"
   ]
  },
  {
   "cell_type": "markdown",
   "metadata": {},
   "source": [
    "## Load Steel Defects Dataset\n",
    "\n",
    "The images are preprocessed into a shape of 64 by 64 to gray scale, as a way to reduce the number of features. Noticed when each dataset is loaded into memory it also shows the number of each class. Class number 3 has approximately 75 percent of the whole dataset. In other owrds, just by predicting class 3 the model can acheive an accuracy of 75 percent. Therefore, we need the model to generalize among each class as much as possible."
   ]
  },
  {
   "cell_type": "code",
   "execution_count": 2,
   "metadata": {},
   "outputs": [],
   "source": [
    "steel = steel_defects()"
   ]
  },
  {
   "cell_type": "code",
   "execution_count": 3,
   "metadata": {},
   "outputs": [],
   "source": [
    "trn_dir = '~./imgs_multiClass/train'\n",
    "tst_dir = '~./imgs_multiClass/test'\n",
    "val_dir = '~/imgs_multiClass/valid'"
   ]
  },
  {
   "cell_type": "code",
   "execution_count": 4,
   "metadata": {},
   "outputs": [
    {
     "name": "stderr",
     "output_type": "stream",
     "text": [
      "100%|██████████| 630/630 [00:02<00:00, 258.64it/s]\n",
      "100%|██████████| 157/157 [00:00<00:00, 297.52it/s]\n",
      "100%|██████████| 3850/3850 [00:13<00:00, 275.14it/s]\n",
      "100%|██████████| 422/422 [00:01<00:00, 264.95it/s]\n"
     ]
    }
   ],
   "source": [
    "# training data\n",
    "tr_imgs, tr_lbls = steel.load_defects(trn_dir)"
   ]
  },
  {
   "cell_type": "code",
   "execution_count": 5,
   "metadata": {},
   "outputs": [
    {
     "name": "stderr",
     "output_type": "stream",
     "text": [
      "100%|██████████| 62/62 [00:00<00:00, 261.21it/s]\n",
      "100%|██████████| 19/19 [00:00<00:00, 302.18it/s]\n",
      "100%|██████████| 433/433 [00:01<00:00, 278.23it/s]\n",
      "100%|██████████| 42/42 [00:00<00:00, 258.71it/s]\n"
     ]
    }
   ],
   "source": [
    "# validation data\n",
    "vl_imgs, vl_lbls = steel.load_defects(val_dir)"
   ]
  },
  {
   "cell_type": "code",
   "execution_count": 6,
   "metadata": {},
   "outputs": [
    {
     "name": "stderr",
     "output_type": "stream",
     "text": [
      "100%|██████████| 77/77 [00:00<00:00, 271.49it/s]\n",
      "100%|██████████| 19/19 [00:00<00:00, 289.47it/s]\n",
      "100%|██████████| 476/476 [00:01<00:00, 281.97it/s]\n",
      "100%|██████████| 52/52 [00:00<00:00, 262.72it/s]\n"
     ]
    }
   ],
   "source": [
    "# testing data\n",
    "ts_imgs, ts_lbls = steel.load_defects(tst_dir)"
   ]
  },
  {
   "cell_type": "markdown",
   "metadata": {},
   "source": [
    "## Data Preparation\n",
    "\n",
    "To reduce the memory foot-print, to train the model we will use an image generator from keras. As mentioned above, an additional piece of code was added to balance the image generated during training. To reduce the number of features each image was pre-processed to have only one color channel, gray scale. To augment the training data, the image generator will flip the image horizontally and vertically, and also tweek the brightness from a range of 02. to 0.8. To ensure reproducibility, the random number generator was seeded at 42."
   ]
  },
  {
   "cell_type": "code",
   "execution_count": 7,
   "metadata": {},
   "outputs": [
    {
     "name": "stdout",
     "output_type": "stream",
     "text": [
      "Number of steps per epoch 481\n"
     ]
    }
   ],
   "source": [
    "tr_generator = ImageDataGenerator(rescale=1.0/255, \n",
    "                                  brightness_range=(0.2, 0.8), \n",
    "                                  horizontal_flip=True, \n",
    "                                  vertical_flip=True)\n",
    "\n",
    "ts_generator = ImageDataGenerator(rescale=1.0/255)\n",
    "\n",
    "ts_gen = ts_generator.flow(ts_imgs, ts_lbls, batch_size=32, seed=42)\n",
    "vl_gen = ts_generator.flow(vl_imgs, vl_lbls, batch_size=32, seed=42)\n",
    "\n",
    "bgen = BalancedDataGenerator(tr_imgs, tr_lbls, tr_generator, batch_size=32)\n",
    "\n",
    "print('Number of steps per epoch {}'.format(bgen.steps_per_epoch))"
   ]
  },
  {
   "cell_type": "markdown",
   "metadata": {},
   "source": [
    "## Model Training and Evaluation\n",
    "\n",
    "To reduce overfiting due to the class imbalance, the model was created with several droputs. After the first convolutional layer we used a bacth normalization layer which improved the learning of the algorithm. The folowing layers are two blocks of convolution, 10 percent spatial dropout and max-pooling layer, then another convolution and a max-pool layer. The classifier has a ten pecent dropout with 512 neurons in the first dense layer and 4 neurons in the output layer. This model architecture gives a total of 5,109,060 trainable parameters. Due the image data generator will act randomly, to enhance the learning and avoid learning cycles the optimizer used is stochastic gradient descent. The loss function is categorical entropy and the target metrics is accuracy."
   ]
  },
  {
   "cell_type": "code",
   "execution_count": 8,
   "metadata": {},
   "outputs": [],
   "source": [
    "model_classifier = defects_classifier.make_model()"
   ]
  },
  {
   "cell_type": "code",
   "execution_count": 9,
   "metadata": {},
   "outputs": [
    {
     "name": "stdout",
     "output_type": "stream",
     "text": [
      "Model: \"sequential_1\"\n",
      "_________________________________________________________________\n",
      "Layer (type)                 Output Shape              Param #   \n",
      "=================================================================\n",
      "conv2d_1 (Conv2D)            (None, 62, 62, 32)        320       \n",
      "_________________________________________________________________\n",
      "batch_normalization_1 (Batch (None, 62, 62, 32)        128       \n",
      "_________________________________________________________________\n",
      "conv2d_2 (Conv2D)            (None, 60, 60, 64)        18496     \n",
      "_________________________________________________________________\n",
      "max_pooling2d_1 (MaxPooling2 (None, 30, 30, 64)        0         \n",
      "_________________________________________________________________\n",
      "spatial_dropout2d_1 (Spatial (None, 30, 30, 64)        0         \n",
      "_________________________________________________________________\n",
      "conv2d_3 (Conv2D)            (None, 28, 28, 128)       73856     \n",
      "_________________________________________________________________\n",
      "max_pooling2d_2 (MaxPooling2 (None, 14, 14, 128)       0         \n",
      "_________________________________________________________________\n",
      "spatial_dropout2d_2 (Spatial (None, 14, 14, 128)       0         \n",
      "_________________________________________________________________\n",
      "conv2d_4 (Conv2D)            (None, 12, 12, 256)       295168    \n",
      "_________________________________________________________________\n",
      "max_pooling2d_3 (MaxPooling2 (None, 6, 6, 256)         0         \n",
      "_________________________________________________________________\n",
      "flatten_1 (Flatten)          (None, 9216)              0         \n",
      "_________________________________________________________________\n",
      "dropout_1 (Dropout)          (None, 9216)              0         \n",
      "_________________________________________________________________\n",
      "dense_1 (Dense)              (None, 512)               4719104   \n",
      "_________________________________________________________________\n",
      "dense_2 (Dense)              (None, 4)                 2052      \n",
      "=================================================================\n",
      "Total params: 5,109,124\n",
      "Trainable params: 5,109,060\n",
      "Non-trainable params: 64\n",
      "_________________________________________________________________\n"
     ]
    }
   ],
   "source": [
    "model_classifier.summary()"
   ]
  },
  {
   "cell_type": "markdown",
   "metadata": {},
   "source": [
    "Training convolutional models takes time and sometimes after a few epochs it can start overfiting. One strategy we used was to record the best weights after every epcoh based on the accuracy of the validation. Additonally we added early stopping and reduce plateau to monitor the model's learning and stop the process when the model has already learned enough."
   ]
  },
  {
   "cell_type": "code",
   "execution_count": 10,
   "metadata": {},
   "outputs": [],
   "source": [
    "call_list = [\n",
    "    ReduceLROnPlateau(monitor='val_loss', patience=5, verbose=0, factor=0.04, min_lr=0.001),\n",
    "    EarlyStopping(monitor='val_accuracy', patience=5), \n",
    "    ModelCheckpoint(filepath='./logs/weights-improvement-{epoch:02d}-{val_accuracy:.2f}.hdf5', \n",
    "                    save_weights_only=True, \n",
    "                    save_best_only=True, \n",
    "                    monitor='val_accuracy', \n",
    "                    mode='max', \n",
    "                    verbose=0)\n",
    "]"
   ]
  },
  {
   "cell_type": "code",
   "execution_count": 11,
   "metadata": {},
   "outputs": [
    {
     "name": "stdout",
     "output_type": "stream",
     "text": [
      "Epoch 1/50\n",
      "481/481 [==============================] - 87s 180ms/step - loss: 1.1103 - accuracy: 0.5015 - val_loss: 1.0483 - val_accuracy: 0.6287\n",
      "Epoch 2/50\n",
      "481/481 [==============================] - 93s 193ms/step - loss: 0.9238 - accuracy: 0.6081 - val_loss: 0.9293 - val_accuracy: 0.5763\n",
      "Epoch 3/50\n",
      "481/481 [==============================] - 94s 196ms/step - loss: 0.8658 - accuracy: 0.6363 - val_loss: 0.7264 - val_accuracy: 0.6279\n",
      "Epoch 4/50\n",
      "481/481 [==============================] - 96s 200ms/step - loss: 0.8254 - accuracy: 0.6564 - val_loss: 0.8791 - val_accuracy: 0.5611\n",
      "Epoch 5/50\n",
      "481/481 [==============================] - 96s 200ms/step - loss: 0.7860 - accuracy: 0.6743 - val_loss: 0.7446 - val_accuracy: 0.6775\n",
      "Epoch 6/50\n",
      "481/481 [==============================] - 97s 201ms/step - loss: 0.7515 - accuracy: 0.6895 - val_loss: 0.9353 - val_accuracy: 0.6317\n",
      "Epoch 7/50\n",
      "481/481 [==============================] - 96s 199ms/step - loss: 0.7139 - accuracy: 0.7102 - val_loss: 0.6210 - val_accuracy: 0.7080\n",
      "Epoch 8/50\n",
      "481/481 [==============================] - 93s 194ms/step - loss: 0.6780 - accuracy: 0.7221 - val_loss: 0.9303 - val_accuracy: 0.5897\n",
      "Epoch 9/50\n",
      "481/481 [==============================] - 94s 195ms/step - loss: 0.6365 - accuracy: 0.7419 - val_loss: 0.7909 - val_accuracy: 0.7233\n",
      "Epoch 10/50\n",
      "481/481 [==============================] - 94s 196ms/step - loss: 0.5932 - accuracy: 0.7638 - val_loss: 0.6025 - val_accuracy: 0.7176\n",
      "Epoch 11/50\n",
      "481/481 [==============================] - 97s 201ms/step - loss: 0.5607 - accuracy: 0.7778 - val_loss: 0.9212 - val_accuracy: 0.7405\n",
      "Epoch 12/50\n",
      "481/481 [==============================] - 95s 197ms/step - loss: 0.5190 - accuracy: 0.7952 - val_loss: 0.9039 - val_accuracy: 0.5992\n",
      "Epoch 13/50\n",
      "481/481 [==============================] - 97s 202ms/step - loss: 0.4804 - accuracy: 0.8116 - val_loss: 0.5922 - val_accuracy: 0.7615\n",
      "Epoch 14/50\n",
      "481/481 [==============================] - 95s 198ms/step - loss: 0.4424 - accuracy: 0.8313 - val_loss: 1.0572 - val_accuracy: 0.7195\n",
      "Epoch 15/50\n",
      "481/481 [==============================] - 100s 207ms/step - loss: 0.4172 - accuracy: 0.8402 - val_loss: 0.9069 - val_accuracy: 0.7137\n",
      "Epoch 16/50\n",
      "481/481 [==============================] - 100s 208ms/step - loss: 0.3849 - accuracy: 0.8564 - val_loss: 0.9118 - val_accuracy: 0.7004\n",
      "Epoch 17/50\n",
      "481/481 [==============================] - 101s 209ms/step - loss: 0.3421 - accuracy: 0.8736 - val_loss: 0.8610 - val_accuracy: 0.7958\n",
      "Epoch 18/50\n",
      "481/481 [==============================] - 97s 202ms/step - loss: 0.3210 - accuracy: 0.8788 - val_loss: 1.0709 - val_accuracy: 0.8130\n",
      "Epoch 19/50\n",
      "481/481 [==============================] - 99s 206ms/step - loss: 0.2521 - accuracy: 0.9146 - val_loss: 1.2515 - val_accuracy: 0.7610\n",
      "Epoch 20/50\n",
      "481/481 [==============================] - 97s 201ms/step - loss: 0.2371 - accuracy: 0.9185 - val_loss: 0.4841 - val_accuracy: 0.7672\n",
      "Epoch 21/50\n",
      "481/481 [==============================] - 97s 201ms/step - loss: 0.2226 - accuracy: 0.9243 - val_loss: 0.6910 - val_accuracy: 0.7519\n",
      "Epoch 22/50\n",
      "481/481 [==============================] - 97s 202ms/step - loss: 0.2218 - accuracy: 0.9220 - val_loss: 0.6779 - val_accuracy: 0.7710\n",
      "Epoch 23/50\n",
      "481/481 [==============================] - 98s 203ms/step - loss: 0.2147 - accuracy: 0.9254 - val_loss: 0.8173 - val_accuracy: 0.7653\n"
     ]
    }
   ],
   "source": [
    "np.random.seed(42)\n",
    "\n",
    "history = model_classifier.fit_generator(bgen, \n",
    "                                           steps_per_epoch=481,\n",
    "                                           validation_data=vl_gen,\n",
    "                                           validation_steps=len(vl_imgs)//32,\n",
    "                                           epochs=50,\n",
    "                                           callbacks=call_list)"
   ]
  },
  {
   "cell_type": "code",
   "execution_count": 57,
   "metadata": {},
   "outputs": [],
   "source": [
    "model_classifier.save('nultiClass_defects.h5')"
   ]
  },
  {
   "cell_type": "code",
   "execution_count": 12,
   "metadata": {},
   "outputs": [],
   "source": [
    "plots = defects_classifier()"
   ]
  },
  {
   "cell_type": "code",
   "execution_count": 45,
   "metadata": {},
   "outputs": [
    {
     "data": {
      "image/png": "[encoded data removed]",
      "text/plain": [
       "<Figure size 576x432 with 1 Axes>"
      ]
     },
     "metadata": {
      "needs_background": "light"
     },
     "output_type": "display_data"
    }
   ],
   "source": [
    "plots.plot_accuracy(history=history, title='Training CNN', x_width=2, label_size=15, save=True)"
   ]
  },
  {
   "cell_type": "code",
   "execution_count": 46,
   "metadata": {},
   "outputs": [
    {
     "data": {
      "image/png": "[encoded data removed]",
      "text/plain": [
       "<Figure size 576x432 with 1 Axes>"
      ]
     },
     "metadata": {
      "needs_background": "light"
     },
     "output_type": "display_data"
    }
   ],
   "source": [
    "plots.plot_loss(history=history, title='Training CNN', x_width=2, label_size=15, save=True)"
   ]
  },
  {
   "cell_type": "markdown",
   "metadata": {},
   "source": [
    "Initially for every epcoh the the accuracy of the validation increased while its loss was not stable. After 20 epochs the accuracy of the training and validation plateaus out but the loss in the validation does not show a significant change as in the training set. This trend in training and the confusion matrix and classification report of the trained model shows the model does generalize for class 1, 2 and 3 but it is enable to propeerly classify class 4.  "
   ]
  },
  {
   "cell_type": "code",
   "execution_count": 24,
   "metadata": {},
   "outputs": [],
   "source": [
    "defects = defects_classifier()"
   ]
  },
  {
   "cell_type": "code",
   "execution_count": 25,
   "metadata": {},
   "outputs": [
    {
     "name": "stdout",
     "output_type": "stream",
     "text": [
      "Training\n",
      "\n",
      "Confusion Matrix\n",
      "\n",
      "[[ 438    2  166   24]\n",
      " [   8  110   24   15]\n",
      " [ 196   26 3492  136]\n",
      " [   6    0  260  156]]\n",
      "\n",
      "Classification Report\n",
      "\n",
      "              precision    recall  f1-score   support\n",
      "\n",
      "           0       0.68      0.70      0.69       630\n",
      "           1       0.80      0.70      0.75       157\n",
      "           2       0.89      0.91      0.90      3850\n",
      "           3       0.47      0.37      0.41       422\n",
      "\n",
      "    accuracy                           0.83      5059\n",
      "   macro avg       0.71      0.67      0.69      5059\n",
      "weighted avg       0.82      0.83      0.83      5059\n",
      "\n"
     ]
    }
   ],
   "source": [
    "defects.cl_report(model_classifier, tr_imgs, tr_lbls, 'Training')"
   ]
  },
  {
   "cell_type": "code",
   "execution_count": 27,
   "metadata": {},
   "outputs": [
    {
     "name": "stdout",
     "output_type": "stream",
     "text": [
      "Validation\n",
      "\n",
      "Confusion Matrix\n",
      "\n",
      "[[ 29   2  28   3]\n",
      " [  0   9   6   4]\n",
      " [ 37   7 368  21]\n",
      " [  1   0  37   4]]\n",
      "\n",
      "Classification Report\n",
      "\n",
      "              precision    recall  f1-score   support\n",
      "\n",
      "           0       0.43      0.47      0.45        62\n",
      "           1       0.50      0.47      0.49        19\n",
      "           2       0.84      0.85      0.84       433\n",
      "           3       0.12      0.10      0.11        42\n",
      "\n",
      "    accuracy                           0.74       556\n",
      "   macro avg       0.47      0.47      0.47       556\n",
      "weighted avg       0.73      0.74      0.73       556\n",
      "\n"
     ]
    }
   ],
   "source": [
    "defects.cl_report(model_classifier, vl_imgs, vl_lbls, 'Validation')"
   ]
  },
  {
   "cell_type": "markdown",
   "metadata": {},
   "source": [
    "### Loaded weights\n",
    "\n",
    "In this section we will check the performance of the best saved weights during training. Specifically we will at the weights of epoch number 7 and 18. "
   ]
  },
  {
   "cell_type": "code",
   "execution_count": 49,
   "metadata": {},
   "outputs": [],
   "source": [
    "model_7 = defects_classifier.make_model()"
   ]
  },
  {
   "cell_type": "code",
   "execution_count": 50,
   "metadata": {},
   "outputs": [],
   "source": [
    "model_7.load_weights('./logs/weights-improvement-07-0.71.hdf5')"
   ]
  },
  {
   "cell_type": "code",
   "execution_count": 51,
   "metadata": {},
   "outputs": [
    {
     "name": "stdout",
     "output_type": "stream",
     "text": [
      "Training\n",
      "\n",
      "Confusion Matrix\n",
      "\n",
      "[[ 235    9  386    0]\n",
      " [  34   62   61    0]\n",
      " [ 256   36 3505   53]\n",
      " [  10    0  380   32]]\n",
      "\n",
      "Classification Report\n",
      "\n",
      "              precision    recall  f1-score   support\n",
      "\n",
      "           0       0.44      0.37      0.40       630\n",
      "           1       0.58      0.39      0.47       157\n",
      "           2       0.81      0.91      0.86      3850\n",
      "           3       0.38      0.08      0.13       422\n",
      "\n",
      "    accuracy                           0.76      5059\n",
      "   macro avg       0.55      0.44      0.46      5059\n",
      "weighted avg       0.72      0.76      0.73      5059\n",
      "\n"
     ]
    }
   ],
   "source": [
    "defects.cl_report(model_7, tr_imgs, tr_lbls, 'Training')"
   ]
  },
  {
   "cell_type": "code",
   "execution_count": 52,
   "metadata": {},
   "outputs": [
    {
     "name": "stdout",
     "output_type": "stream",
     "text": [
      "Validation\n",
      "\n",
      "Confusion Matrix\n",
      "\n",
      "[[ 20   2  40   0]\n",
      " [  5   8   6   0]\n",
      " [ 31   6 386  10]\n",
      " [  1   0  40   1]]\n",
      "\n",
      "Classification Report\n",
      "\n",
      "              precision    recall  f1-score   support\n",
      "\n",
      "           0       0.35      0.32      0.34        62\n",
      "           1       0.50      0.42      0.46        19\n",
      "           2       0.82      0.89      0.85       433\n",
      "           3       0.09      0.02      0.04        42\n",
      "\n",
      "    accuracy                           0.75       556\n",
      "   macro avg       0.44      0.41      0.42       556\n",
      "weighted avg       0.70      0.75      0.72       556\n",
      "\n"
     ]
    }
   ],
   "source": [
    "defects.cl_report(model_7, vl_imgs, vl_lbls, 'Validation')"
   ]
  },
  {
   "cell_type": "markdown",
   "metadata": {},
   "source": [
    "The results from epcoh 7 suggests the model was basically predicting class 2 and 3 with class performing poorly. Same results are shown from the weights of epoch 8. Despite the final trained model overfits, it shows better results than these two. At least it can generalize more with class 1."
   ]
  },
  {
   "cell_type": "code",
   "execution_count": 53,
   "metadata": {},
   "outputs": [],
   "source": [
    "model_18 = defects_classifier.make_model()"
   ]
  },
  {
   "cell_type": "code",
   "execution_count": 54,
   "metadata": {},
   "outputs": [],
   "source": [
    "model_18.load_weights('./logs/weights-improvement-18-0.81.hdf5')"
   ]
  },
  {
   "cell_type": "code",
   "execution_count": 55,
   "metadata": {},
   "outputs": [
    {
     "name": "stdout",
     "output_type": "stream",
     "text": [
      "Training\n",
      "\n",
      "Confusion Matrix\n",
      "\n",
      "[[ 359    5  255   11]\n",
      " [   7  105   39    6]\n",
      " [ 157   23 3615   55]\n",
      " [   3    0  347   72]]\n",
      "\n",
      "Classification Report\n",
      "\n",
      "              precision    recall  f1-score   support\n",
      "\n",
      "           0       0.68      0.57      0.62       630\n",
      "           1       0.79      0.67      0.72       157\n",
      "           2       0.85      0.94      0.89      3850\n",
      "           3       0.50      0.17      0.25       422\n",
      "\n",
      "    accuracy                           0.82      5059\n",
      "   macro avg       0.71      0.59      0.62      5059\n",
      "weighted avg       0.80      0.82      0.80      5059\n",
      "\n"
     ]
    }
   ],
   "source": [
    "defects.cl_report(model_18, tr_imgs, tr_lbls, 'Training')"
   ]
  },
  {
   "cell_type": "code",
   "execution_count": 56,
   "metadata": {},
   "outputs": [
    {
     "name": "stdout",
     "output_type": "stream",
     "text": [
      "Validation\n",
      "\n",
      "Confusion Matrix\n",
      "\n",
      "[[ 20   1  39   2]\n",
      " [  0  10   6   3]\n",
      " [ 25   6 391  11]\n",
      " [  1   0  40   1]]\n",
      "\n",
      "Classification Report\n",
      "\n",
      "              precision    recall  f1-score   support\n",
      "\n",
      "           0       0.43      0.32      0.37        62\n",
      "           1       0.59      0.53      0.56        19\n",
      "           2       0.82      0.90      0.86       433\n",
      "           3       0.06      0.02      0.03        42\n",
      "\n",
      "    accuracy                           0.76       556\n",
      "   macro avg       0.48      0.44      0.46       556\n",
      "weighted avg       0.71      0.76      0.73       556\n",
      "\n"
     ]
    }
   ],
   "source": [
    "defects.cl_report(model_18, vl_imgs, vl_lbls, 'Validation')"
   ]
  },
  {
   "cell_type": "markdown",
   "metadata": {},
   "source": [
    "## Discussion\n",
    "\n",
    "Training convolutional neural networks with a small unbalanced dataset is not an easy task. After implementing several strategies to produce a model, due to the given dataset, the model overfits. Ideally, a larger dataset with more class representation would do the work. Another option would be to try and drop class 4. this might decrease the overfit and improve the validation scores."
   ]
  },
  {
   "cell_type": "code",
   "execution_count": null,
   "metadata": {},
   "outputs": [],
   "source": []
  }
 ],
 "metadata": {
  "kernelspec": {
   "display_name": "Python 3",
   "language": "python",
   "name": "python3"
  },
  "language_info": {
   "codemirror_mode": {
    "name": "ipython",
    "version": 3
   },
   "file_extension": ".py",
   "mimetype": "text/x-python",
   "name": "python",
   "nbconvert_exporter": "python",
   "pygments_lexer": "ipython3",
   "version": "3.7.6"
  }
 },
 "nbformat": 4,
 "nbformat_minor": 4
}
