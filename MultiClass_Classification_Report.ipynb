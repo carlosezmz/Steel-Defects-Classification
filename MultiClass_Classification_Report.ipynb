{
 "cells": [
  {
   "cell_type": "markdown",
   "metadata": {},
   "source": [
    "# Steel Defects Classification\n",
    "\n",
    "In this section we will build a multi-class classifier to classify the type steel defect shown on an image. To mitigate the class-imbalance, during training we will augment the images and for every batch augmented we will over sample the minority classes to have better representation. To evaluate the performance of the model, we expecct the precision, recall and f1 scores to be similar. "
   ]
  },
  {
   "cell_type": "code",
   "execution_count": 1,
   "metadata": {},
   "outputs": [
    {
     "name": "stderr",
     "output_type": "stream",
     "text": [
      "Using TensorFlow backend.\n"
     ]
    }
   ],
   "source": [
    "# main libraries\n",
    "import numpy as np\n",
    "\n",
    "# dataset\n",
    "from steel_defects import steel_defects\n",
    "\n",
    "# model\n",
    "from defects_classifier import defects_classifier\n",
    "\n",
    "# batch generator over sampler\n",
    "from BalancedDataGenerator import BalancedDataGenerator\n",
    "\n",
    "# image generator\n",
    "from keras.preprocessing.image import ImageDataGenerator\n",
    "\n",
    "# model training helpers\n",
    "from keras.callbacks import EarlyStopping\n",
    "from keras.callbacks import ReduceLROnPlateau\n",
    "\n",
    "np.random.seed(42)"
   ]
  },
  {
   "cell_type": "markdown",
   "metadata": {},
   "source": [
    "## Load Steel Defects Dataset\n",
    "\n",
    "The images are preprocessed into a shape of 64 by 64 to gray scale, as a way to reduce the number of features. Noticed when each dataset is loaded into memory it also shows the number of each class. Clasnumber 3 has approximately 75 percent of the whole dataset. In other owrds, just by predicting class 3 the model can acheive an accuracy of 75 percent. Therefore, we need the model to generalize among each class as much as possible."
   ]
  },
  {
   "cell_type": "code",
   "execution_count": 2,
   "metadata": {},
   "outputs": [],
   "source": [
    "steel = steel_defects()"
   ]
  },
  {
   "cell_type": "code",
   "execution_count": 3,
   "metadata": {},
   "outputs": [],
   "source": [
    "trn_dir = '~./imgs_multiClass/train'\n",
    "tst_dir = '~./imgs_multiClass/test'\n",
    "val_dir = '~./imgs_multiClass/valid'"
   ]
  },
  {
   "cell_type": "code",
   "execution_count": 4,
   "metadata": {},
   "outputs": [
    {
     "name": "stderr",
     "output_type": "stream",
     "text": [
      "100%|██████████| 630/630 [00:02<00:00, 259.57it/s]\n",
      "100%|██████████| 157/157 [00:00<00:00, 265.15it/s]\n",
      "100%|██████████| 3850/3850 [00:14<00:00, 271.95it/s]\n",
      "100%|██████████| 422/422 [00:01<00:00, 254.85it/s]\n"
     ]
    }
   ],
   "source": [
    "# training data\n",
    "tr_imgs, tr_lbls = steel.load_defects(trn_dir)"
   ]
  },
  {
   "cell_type": "code",
   "execution_count": 5,
   "metadata": {},
   "outputs": [
    {
     "name": "stderr",
     "output_type": "stream",
     "text": [
      "100%|██████████| 62/62 [00:00<00:00, 257.37it/s]\n",
      "100%|██████████| 19/19 [00:00<00:00, 309.51it/s]\n",
      "100%|██████████| 433/433 [00:01<00:00, 262.26it/s]\n",
      "100%|██████████| 42/42 [00:00<00:00, 240.56it/s]\n"
     ]
    }
   ],
   "source": [
    "# validation data\n",
    "vl_imgs, vl_lbls = steel.load_defects(val_dir)"
   ]
  },
  {
   "cell_type": "code",
   "execution_count": 6,
   "metadata": {},
   "outputs": [
    {
     "name": "stderr",
     "output_type": "stream",
     "text": [
      "100%|██████████| 77/77 [00:00<00:00, 255.11it/s]\n",
      "100%|██████████| 19/19 [00:00<00:00, 264.44it/s]\n",
      "100%|██████████| 476/476 [00:01<00:00, 250.22it/s]\n",
      "100%|██████████| 52/52 [00:00<00:00, 243.85it/s]\n"
     ]
    }
   ],
   "source": [
    "# testing data\n",
    "ts_imgs, ts_lbls = steel.load_defects(tst_dir)"
   ]
  },
  {
   "cell_type": "markdown",
   "metadata": {},
   "source": [
    "## Data Preparation\n",
    "\n",
    "To reduce the memory foot-print, to train the model we will use an image generator from keras. As mentioned above, an additional piece of code was added to balance the image generated during training. "
   ]
  },
  {
   "cell_type": "code",
   "execution_count": 7,
   "metadata": {},
   "outputs": [
    {
     "name": "stdout",
     "output_type": "stream",
     "text": [
      "Number of steps per epoch 481\n"
     ]
    }
   ],
   "source": [
    "tr_generator = ImageDataGenerator(rescale=1.0/255, \n",
    "                            brightness_range=(0.2, 0.7), \n",
    "                            horizontal_flip=True, \n",
    "                            vertical_flip=True)\n",
    "\n",
    "ts_generator = ImageDataGenerator(rescale=1.0/255)\n",
    "\n",
    "ts_gen = ts_generator.flow(ts_imgs, ts_lbls, batch_size=32, seed=42)\n",
    "vl_gen = ts_generator.flow(vl_imgs, vl_lbls, batch_size=32, seed=42)\n",
    "\n",
    "bgen = BalancedDataGenerator(tr_imgs, tr_lbls, tr_generator, batch_size=32)\n",
    "\n",
    "print('Number of steps per epoch {}'.format(bgen.steps_per_epoch))"
   ]
  },
  {
   "cell_type": "markdown",
   "metadata": {},
   "source": [
    "## Model Training and Evaluation\n",
    "\n",
    "In this part we will train model "
   ]
  },
  {
   "cell_type": "code",
   "execution_count": 8,
   "metadata": {},
   "outputs": [],
   "source": [
    "model_classifier = defects_classifier.make_model()"
   ]
  },
  {
   "cell_type": "code",
   "execution_count": 9,
   "metadata": {},
   "outputs": [
    {
     "name": "stdout",
     "output_type": "stream",
     "text": [
      "Model: \"sequential_1\"\n",
      "_________________________________________________________________\n",
      "Layer (type)                 Output Shape              Param #   \n",
      "=================================================================\n",
      "conv2d_1 (Conv2D)            (None, 62, 62, 32)        320       \n",
      "_________________________________________________________________\n",
      "batch_normalization_1 (Batch (None, 62, 62, 32)        128       \n",
      "_________________________________________________________________\n",
      "conv2d_2 (Conv2D)            (None, 60, 60, 64)        18496     \n",
      "_________________________________________________________________\n",
      "max_pooling2d_1 (MaxPooling2 (None, 30, 30, 64)        0         \n",
      "_________________________________________________________________\n",
      "spatial_dropout2d_1 (Spatial (None, 30, 30, 64)        0         \n",
      "_________________________________________________________________\n",
      "conv2d_3 (Conv2D)            (None, 28, 28, 128)       73856     \n",
      "_________________________________________________________________\n",
      "max_pooling2d_2 (MaxPooling2 (None, 14, 14, 128)       0         \n",
      "_________________________________________________________________\n",
      "spatial_dropout2d_2 (Spatial (None, 14, 14, 128)       0         \n",
      "_________________________________________________________________\n",
      "conv2d_4 (Conv2D)            (None, 12, 12, 256)       295168    \n",
      "_________________________________________________________________\n",
      "max_pooling2d_3 (MaxPooling2 (None, 6, 6, 256)         0         \n",
      "_________________________________________________________________\n",
      "flatten_1 (Flatten)          (None, 9216)              0         \n",
      "_________________________________________________________________\n",
      "dropout_1 (Dropout)          (None, 9216)              0         \n",
      "_________________________________________________________________\n",
      "dense_1 (Dense)              (None, 512)               4719104   \n",
      "_________________________________________________________________\n",
      "dense_2 (Dense)              (None, 4)                 2052      \n",
      "=================================================================\n",
      "Total params: 5,109,124\n",
      "Trainable params: 5,109,060\n",
      "Non-trainable params: 64\n",
      "_________________________________________________________________\n"
     ]
    }
   ],
   "source": [
    "model_classifier.summary()"
   ]
  },
  {
   "cell_type": "code",
   "execution_count": 10,
   "metadata": {},
   "outputs": [],
   "source": [
    "call_list = [\n",
    "    ReduceLROnPlateau(monitor='val_loss', patience=4, verbose=0, factor=0.04, min_lr=0.001),\n",
    "    EarlyStopping(monitor='val_accuracy', patience=4)\n",
    "]"
   ]
  },
  {
   "cell_type": "code",
   "execution_count": 11,
   "metadata": {},
   "outputs": [
    {
     "name": "stdout",
     "output_type": "stream",
     "text": [
      "Epoch 1/50\n",
      "481/481 [==============================] - 96s 200ms/step - loss: 1.0843 - accuracy: 0.5097 - val_loss: 1.1327 - val_accuracy: 0.4026\n",
      "Epoch 2/50\n",
      "481/481 [==============================] - 100s 208ms/step - loss: 0.9258 - accuracy: 0.6031 - val_loss: 0.9705 - val_accuracy: 0.4809\n",
      "Epoch 3/50\n",
      "481/481 [==============================] - 106s 220ms/step - loss: 0.8648 - accuracy: 0.6314 - val_loss: 0.8349 - val_accuracy: 0.4943\n",
      "Epoch 4/50\n",
      "481/481 [==============================] - 108s 225ms/step - loss: 0.8163 - accuracy: 0.6569 - val_loss: 1.0053 - val_accuracy: 0.4847\n",
      "Epoch 5/50\n",
      "481/481 [==============================] - 107s 223ms/step - loss: 0.7787 - accuracy: 0.6810 - val_loss: 0.8640 - val_accuracy: 0.5458\n",
      "Epoch 6/50\n",
      "481/481 [==============================] - 107s 223ms/step - loss: 0.7405 - accuracy: 0.6963 - val_loss: 1.0414 - val_accuracy: 0.5095\n",
      "Epoch 7/50\n",
      "481/481 [==============================] - 112s 233ms/step - loss: 0.7051 - accuracy: 0.7117 - val_loss: 0.6972 - val_accuracy: 0.6298\n",
      "Epoch 8/50\n",
      "481/481 [==============================] - 111s 231ms/step - loss: 0.6722 - accuracy: 0.7258 - val_loss: 1.2337 - val_accuracy: 0.4981\n",
      "Epoch 9/50\n",
      "481/481 [==============================] - 111s 231ms/step - loss: 0.6384 - accuracy: 0.7408 - val_loss: 1.0483 - val_accuracy: 0.6336\n",
      "Epoch 10/50\n",
      "481/481 [==============================] - 110s 229ms/step - loss: 0.6018 - accuracy: 0.7567 - val_loss: 0.6421 - val_accuracy: 0.5897\n",
      "Epoch 11/50\n",
      "481/481 [==============================] - 112s 233ms/step - loss: 0.5711 - accuracy: 0.7698 - val_loss: 0.8564 - val_accuracy: 0.6603\n",
      "Epoch 12/50\n",
      "481/481 [==============================] - 111s 231ms/step - loss: 0.5318 - accuracy: 0.7899 - val_loss: 1.1608 - val_accuracy: 0.5172\n",
      "Epoch 13/50\n",
      "481/481 [==============================] - 111s 230ms/step - loss: 0.4957 - accuracy: 0.8048 - val_loss: 0.7758 - val_accuracy: 0.7309\n",
      "Epoch 14/50\n",
      "481/481 [==============================] - 111s 230ms/step - loss: 0.4593 - accuracy: 0.8203 - val_loss: 1.6930 - val_accuracy: 0.5687\n",
      "Epoch 15/50\n",
      "481/481 [==============================] - 116s 241ms/step - loss: 0.3841 - accuracy: 0.8584 - val_loss: 1.0564 - val_accuracy: 0.6775\n",
      "Epoch 16/50\n",
      "481/481 [==============================] - 112s 233ms/step - loss: 0.3712 - accuracy: 0.8606 - val_loss: 1.0771 - val_accuracy: 0.6966\n",
      "Epoch 17/50\n",
      "481/481 [==============================] - 111s 231ms/step - loss: 0.3566 - accuracy: 0.8636 - val_loss: 0.8672 - val_accuracy: 0.7099\n"
     ]
    }
   ],
   "source": [
    "np.random.seed(42)\n",
    "\n",
    "history = model_classifier.fit_generator(bgen, \n",
    "                                           steps_per_epoch=481,\n",
    "                                           validation_data=vl_gen,\n",
    "                                           validation_steps=len(vl_imgs)//32,\n",
    "                                           epochs=50,\n",
    "                                           callbacks=call_list)"
   ]
  },
  {
   "cell_type": "code",
   "execution_count": 12,
   "metadata": {},
   "outputs": [
    {
     "name": "stdout",
     "output_type": "stream",
     "text": [
      "Ahora si\n"
     ]
    }
   ],
   "source": [
    "print('Ahora si')"
   ]
  },
  {
   "cell_type": "code",
   "execution_count": 18,
   "metadata": {},
   "outputs": [],
   "source": [
    "plots = defects_classifier()"
   ]
  },
  {
   "cell_type": "code",
   "execution_count": 19,
   "metadata": {},
   "outputs": [
    {
     "ename": "NameError",
     "evalue": "name 'np' is not defined",
     "output_type": "error",
     "traceback": [
      "\u001b[0;31m---------------------------------------------------------------------------\u001b[0m",
      "\u001b[0;31mNameError\u001b[0m                                 Traceback (most recent call last)",
      "\u001b[0;32m<ipython-input-19-7dec205974e4>\u001b[0m in \u001b[0;36m<module>\u001b[0;34m\u001b[0m\n\u001b[0;32m----> 1\u001b[0;31m \u001b[0mplots\u001b[0m\u001b[0;34m.\u001b[0m\u001b[0mplot_accuracy\u001b[0m\u001b[0;34m(\u001b[0m\u001b[0mhistory\u001b[0m\u001b[0;34m=\u001b[0m\u001b[0mhistory\u001b[0m\u001b[0;34m,\u001b[0m \u001b[0mtitle\u001b[0m\u001b[0;34m=\u001b[0m\u001b[0;34m'Training CNN'\u001b[0m\u001b[0;34m,\u001b[0m \u001b[0mx_width\u001b[0m\u001b[0;34m=\u001b[0m\u001b[0;36m1\u001b[0m\u001b[0;34m,\u001b[0m \u001b[0mlabel_size\u001b[0m\u001b[0;34m=\u001b[0m\u001b[0;36m15\u001b[0m\u001b[0;34m,\u001b[0m \u001b[0msave\u001b[0m\u001b[0;34m=\u001b[0m\u001b[0;32mFalse\u001b[0m\u001b[0;34m)\u001b[0m\u001b[0;34m\u001b[0m\u001b[0;34m\u001b[0m\u001b[0m\n\u001b[0m",
      "\u001b[0;32m~/Documents/GitHub/DeepNets_Project/defects_classifier.py\u001b[0m in \u001b[0;36mplot_accuracy\u001b[0;34m(self, history, title, x_width, label_size, save)\u001b[0m\n\u001b[1;32m     61\u001b[0m         \u001b[0mplt\u001b[0m\u001b[0;34m.\u001b[0m\u001b[0mplot\u001b[0m\u001b[0;34m(\u001b[0m\u001b[0mhistory\u001b[0m\u001b[0;34m.\u001b[0m\u001b[0mhistory\u001b[0m\u001b[0;34m[\u001b[0m\u001b[0;34m'accuracy'\u001b[0m\u001b[0;34m]\u001b[0m\u001b[0;34m,\u001b[0m \u001b[0mc\u001b[0m\u001b[0;34m=\u001b[0m\u001b[0;34m'r'\u001b[0m\u001b[0;34m,\u001b[0m \u001b[0mlabel\u001b[0m\u001b[0;34m=\u001b[0m\u001b[0;34m'Training'\u001b[0m\u001b[0;34m)\u001b[0m\u001b[0;34m\u001b[0m\u001b[0;34m\u001b[0m\u001b[0m\n\u001b[1;32m     62\u001b[0m         \u001b[0mplt\u001b[0m\u001b[0;34m.\u001b[0m\u001b[0mplot\u001b[0m\u001b[0;34m(\u001b[0m\u001b[0mhistory\u001b[0m\u001b[0;34m.\u001b[0m\u001b[0mhistory\u001b[0m\u001b[0;34m[\u001b[0m\u001b[0;34m'val_accuracy'\u001b[0m\u001b[0;34m]\u001b[0m\u001b[0;34m,\u001b[0m \u001b[0mc\u001b[0m\u001b[0;34m=\u001b[0m\u001b[0;34m'b'\u001b[0m\u001b[0;34m,\u001b[0m \u001b[0mlabel\u001b[0m\u001b[0;34m=\u001b[0m\u001b[0;34m'Validation'\u001b[0m\u001b[0;34m)\u001b[0m\u001b[0;34m\u001b[0m\u001b[0;34m\u001b[0m\u001b[0m\n\u001b[0;32m---> 63\u001b[0;31m         \u001b[0mplt\u001b[0m\u001b[0;34m.\u001b[0m\u001b[0mxticks\u001b[0m\u001b[0;34m(\u001b[0m\u001b[0mnp\u001b[0m\u001b[0;34m.\u001b[0m\u001b[0marange\u001b[0m\u001b[0;34m(\u001b[0m\u001b[0;36m1\u001b[0m\u001b[0;34m,\u001b[0m \u001b[0mlen\u001b[0m\u001b[0;34m(\u001b[0m\u001b[0mhistory\u001b[0m\u001b[0;34m.\u001b[0m\u001b[0mhistory\u001b[0m\u001b[0;34m[\u001b[0m\u001b[0;34m'val_accuracy'\u001b[0m\u001b[0;34m]\u001b[0m\u001b[0;34m)\u001b[0m\u001b[0;34m+\u001b[0m\u001b[0;36m1\u001b[0m\u001b[0;34m,\u001b[0m \u001b[0mx_width\u001b[0m\u001b[0;34m)\u001b[0m\u001b[0;34m)\u001b[0m\u001b[0;34m\u001b[0m\u001b[0;34m\u001b[0m\u001b[0m\n\u001b[0m\u001b[1;32m     64\u001b[0m         \u001b[0mplt\u001b[0m\u001b[0;34m.\u001b[0m\u001b[0mlegend\u001b[0m\u001b[0;34m(\u001b[0m\u001b[0;34m)\u001b[0m\u001b[0;34m\u001b[0m\u001b[0;34m\u001b[0m\u001b[0m\n\u001b[1;32m     65\u001b[0m         \u001b[0mplt\u001b[0m\u001b[0;34m.\u001b[0m\u001b[0mxlabel\u001b[0m\u001b[0;34m(\u001b[0m\u001b[0;34m'Epoch'\u001b[0m\u001b[0;34m)\u001b[0m\u001b[0;34m\u001b[0m\u001b[0;34m\u001b[0m\u001b[0m\n",
      "\u001b[0;31mNameError\u001b[0m: name 'np' is not defined"
     ]
    },
    {
     "data": {
      "image/png": "[encoded data removed]",
      "text/plain": [
       "<Figure size 720x576 with 1 Axes>"
      ]
     },
     "metadata": {
      "needs_background": "light"
     },
     "output_type": "display_data"
    }
   ],
   "source": [
    "plots.plot_accuracy(history=history, title='Training CNN', x_width=1, label_size=15, save=False)"
   ]
  },
  {
   "cell_type": "code",
   "execution_count": null,
   "metadata": {},
   "outputs": [],
   "source": []
  }
 ],
 "metadata": {
  "kernelspec": {
   "display_name": "Python 3",
   "language": "python",
   "name": "python3"
  },
  "language_info": {
   "codemirror_mode": {
    "name": "ipython",
    "version": 3
   },
   "file_extension": ".py",
   "mimetype": "text/x-python",
   "name": "python",
   "nbconvert_exporter": "python",
   "pygments_lexer": "ipython3",
   "version": "3.7.4"
  }
 },
 "nbformat": 4,
 "nbformat_minor": 4
}
